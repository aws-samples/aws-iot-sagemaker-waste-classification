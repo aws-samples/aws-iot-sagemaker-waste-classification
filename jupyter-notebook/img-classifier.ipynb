{
 "cells": [
  {
   "cell_type": "code",
   "execution_count": null,
   "id": "1c254940",
   "metadata": {},
   "outputs": [],
   "source": [
    "pip install torch"
   ]
  },
  {
   "cell_type": "code",
   "execution_count": null,
   "id": "d72d8f6e",
   "metadata": {},
   "outputs": [],
   "source": [
    "pip install sagemaker"
   ]
  },
  {
   "cell_type": "code",
   "execution_count": 22,
   "id": "aa6d1e24",
   "metadata": {},
   "outputs": [],
   "source": [
    "import torch, gc\n",
    "import time\n",
    "from sagemaker.huggingface.model import HuggingFaceModel\n",
    "from sagemaker.serializers import DataSerializer, JSONSerializer, IdentitySerializer\n",
    "from sagemaker.deserializers import JSONDeserializer"
   ]
  },
  {
   "cell_type": "code",
   "execution_count": 23,
   "id": "00f01da4",
   "metadata": {},
   "outputs": [],
   "source": [
    "hub = {\n",
    "'HF_MODEL_ID': 'openai/clip-vit-large-patch14', # model_id from Models - Hugging Face\n",
    "'HF_TASK':'zero-shot-image-classification' # Type of task your model is solving\n",
    "}"
   ]
  },
  {
   "cell_type": "code",
   "execution_count": null,
   "id": "3dd69b5d",
   "metadata": {},
   "outputs": [],
   "source": [
    "import sagemaker\n",
    "role=sagemaker.get_execution_role()"
   ]
  },
  {
   "cell_type": "code",
   "execution_count": 26,
   "id": "f9fd97de",
   "metadata": {},
   "outputs": [],
   "source": [
    "huggingface_model = HuggingFaceModel(\n",
    "env=hub, # configuration for loading model from Hub\n",
    "role=\"<IAM Service role ARN with permissions to create an endpoint>\", # IAM role with permissions to create an endpoint\n",
    "transformers_version=\"4.17\", # Transformers version used\n",
    "pytorch_version=\"1.10\", # PyTorch version used\n",
    "py_version=\"py38\", # Python version used\n",
    ")"
   ]
  },
  {
   "cell_type": "code",
   "execution_count": 27,
   "id": "548ae279",
   "metadata": {},
   "outputs": [
    {
     "name": "stdout",
     "output_type": "stream",
     "text": [
      "-----------!"
     ]
    }
   ],
   "source": [
    "predictor1 = huggingface_model.deploy(\n",
    "initial_instance_count=1,\n",
    "instance_type= \"ml.g4dn.4xlarge\",\n",
    "serializer=JSONSerializer(),\n",
    "deserializer=JSONDeserializer(),\n",
    ")"
   ]
  },
  {
   "cell_type": "code",
   "execution_count": 31,
   "id": "cb1fee02",
   "metadata": {},
   "outputs": [],
   "source": [
    "data = {\"inputs\": \"https://<S3 Bucket Name>.s3.<AWS Region>.amazonaws.com/<image filename with extension>\",\n",
    "\"parameters\":{'candidate_labels':[\"compost\", \"landfill\",\"recycle\"]}\n",
    "}"
   ]
  },
  {
   "cell_type": "code",
   "execution_count": 32,
   "id": "6e8b4a8a",
   "metadata": {},
   "outputs": [],
   "source": [
    "response = predictor1.predict(data)"
   ]
  },
  {
   "cell_type": "code",
   "execution_count": null,
   "id": "c8779560",
   "metadata": {},
   "outputs": [],
   "source": [
    "response"
   ]
  },
  {
   "cell_type": "code",
   "execution_count": null,
   "id": "e035aca2",
   "metadata": {},
   "outputs": [],
   "source": []
  }
 ],
 "metadata": {
  "kernelspec": {
   "display_name": "conda_amazonei_pytorch_latest_p36",
   "language": "python",
   "name": "conda_amazonei_pytorch_latest_p36"
  },
  "language_info": {
   "codemirror_mode": {
    "name": "ipython",
    "version": 3
   },
   "file_extension": ".py",
   "mimetype": "text/x-python",
   "name": "python",
   "nbconvert_exporter": "python",
   "pygments_lexer": "ipython3",
   "version": "3.6.13"
  }
 },
 "nbformat": 4,
 "nbformat_minor": 5
}
